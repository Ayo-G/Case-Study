{
 "cells": [
  {
   "cell_type": "markdown",
   "metadata": {},
   "source": [
    "# Mobile Money"
   ]
  },
  {
   "cell_type": "code",
   "execution_count": null,
   "metadata": {
    "tags": []
   },
   "outputs": [],
   "source": [
    "# import the necessary libraries\n",
    "import pandas as pd\n",
    "import seaborn as sb\n",
    "import matplotlib.pyplot as plt\n",
    "%matplotlib inline"
   ]
  },
  {
   "cell_type": "code",
   "execution_count": null,
   "metadata": {},
   "outputs": [],
   "source": [
    "# import the dataset into the notebook\n",
    "data = pd.read_csv('mm_data.csv')"
   ]
  },
  {
   "cell_type": "code",
   "execution_count": 1,
   "metadata": {
    "tags": []
   },
   "outputs": [
    {
     "ename": "NameError",
     "evalue": "name 'data' is not defined",
     "output_type": "error",
     "traceback": [
      "\u001b[1;31m---------------------------------------------------------------------------\u001b[0m",
      "\u001b[1;31mNameError\u001b[0m                                 Traceback (most recent call last)",
      "\u001b[1;32mc:\\Users\\personal\\Documents\\Project Files\\GitHub Files\\Case-Study\\Mobile Money Case Study\\Mobile Money.ipynb Cell 4\u001b[0m in \u001b[0;36m<cell line: 2>\u001b[1;34m()\u001b[0m\n\u001b[0;32m      <a href='vscode-notebook-cell:/c%3A/Users/personal/Documents/Project%20Files/GitHub%20Files/Case-Study/Mobile%20Money%20Case%20Study/Mobile%20Money.ipynb#W3sZmlsZQ%3D%3D?line=0'>1</a>\u001b[0m \u001b[39m# preview the loaded dataset\u001b[39;00m\n\u001b[1;32m----> <a href='vscode-notebook-cell:/c%3A/Users/personal/Documents/Project%20Files/GitHub%20Files/Case-Study/Mobile%20Money%20Case%20Study/Mobile%20Money.ipynb#W3sZmlsZQ%3D%3D?line=1'>2</a>\u001b[0m data\u001b[39m.\u001b[39msample(\u001b[39m5\u001b[39m)\n",
      "\u001b[1;31mNameError\u001b[0m: name 'data' is not defined"
     ]
    }
   ],
   "source": [
    "# preview the loaded dataset\n",
    "data.sample(5)"
   ]
  },
  {
   "cell_type": "code",
   "execution_count": null,
   "metadata": {
    "tags": []
   },
   "outputs": [],
   "source": [
    "# explore the properties and structure of the dataset\n",
    "data.info()"
   ]
  },
  {
   "cell_type": "code",
   "execution_count": null,
   "metadata": {
    "tags": []
   },
   "outputs": [],
   "source": [
    "data.shape"
   ]
  },
  {
   "cell_type": "code",
   "execution_count": null,
   "metadata": {
    "tags": []
   },
   "outputs": [],
   "source": [
    "data.describe()"
   ]
  },
  {
   "cell_type": "code",
   "execution_count": null,
   "metadata": {
    "tags": []
   },
   "outputs": [],
   "source": [
    "data.duplicated().sum()"
   ]
  },
  {
   "cell_type": "code",
   "execution_count": null,
   "metadata": {
    "tags": []
   },
   "outputs": [],
   "source": [
    "data.isnull().sum()"
   ]
  },
  {
   "cell_type": "markdown",
   "metadata": {
    "tags": []
   },
   "source": [
    "## Dataset Overview\n",
    "There are 2442 rows and 29 columns of that in this dataset.<br> It can also be noted that there are no duplicated values but there are null values in most of the columns.\n",
    "\n",
    "#### Column Description\n",
    "hhid - Household ID\n",
    "\n",
    "weight - Sampling Weight\n",
    "\n",
    "account_num - Account Number\n",
    "\n",
    "account_type - Type of account\n",
    "\n",
    "district - District of household\n",
    "\n",
    "urban - Household location in urban or rural village\n",
    "\n",
    "gender - Gender\n",
    "\n",
    "age -Age\n",
    "\n",
    "hh_members - Number of household members\n",
    "\n",
    "highest_grade_completed - Highest grade completed\n",
    "\n",
    "mm_account_cancelled - Has cancelled a mobile money account in the past\n",
    "\n",
    "prefer_cash - Preference for cash over cashless payment methods\n",
    "\n",
    "mm_trust - Do you trust mobile money?\n",
    "\n",
    "mm_account_telco - Please select the providers for which you have a mobile money account\n",
    "\n",
    "mm_account_telco_main - Which would you consider your main Mobile Money account?\n",
    "\n",
    "v234 - I understood the terms and conditions when I registered for a mobile money account.\n",
    "\n",
    "agent_trust - Do you trust mobile money agents?\n",
    "\n",
    "v236 - Have you ever taken a mobile money loan?\n",
    "\n",
    "v237 - Have you ever had issues with the network being unavailable for mobile money transactions?\n",
    "\n",
    "v238 - Before making a transaction are you clear about the fees?\n",
    "\n",
    "v240 - Has a transaction ever failed to go through?\n",
    "\n",
    "v241 - Has an agent you’ve dealt with ever not had enough cash or efloat available?\n",
    "\n",
    "v242 - Do you have a copy of the mobile money terms and conditions?\n",
    "\n",
    "v243 - Do you understand how and where to complain if you have an issue with mobile money?\n",
    "\n",
    "v244 - Have you had an issue successfully resolved after making a complaint?\n",
    "\n",
    "v245 - Do you understand what data mobile money providers collect about you?\n",
    "\n",
    "v246 - Have you been a victim of fraud?"
   ]
  },
  {
   "cell_type": "markdown",
   "metadata": {
    "tags": []
   },
   "source": [
    "### Key Issues\n",
    "- During the survey, participants listed all the different types of financial account that they have registered. The resulting data has a format where there is one observation per account type. Format the data so that there is now one observation per participant.\n",
    "\n",
    "- Create two dummy variables for whether each participant is: i) financially excluded and ii) digitally financially included. What are the overall rates of financial exclusion and digital financial inclusion for the combined population of these three districts?\n",
    "\n",
    "  - Financial exclusion is defined as not having registered for any type of financial account including accounts with: Mobile money operators, banks, micro-finance institutions (MFI’s), savings and credit cooperative organisations (SACCO’s) and village savings and loan associations (VSLA’s).\n",
    "\n",
    "  - Digital financial inclusion is defined as having at least one registered account with a mobile money operator or an online bank account.\n",
    "\n",
    "- Describe in a few short paragraphs how the mobile money market is divided between the three companies. Include at least one chart or table to illustrate your findings. \n",
    "\n",
    "- Is there a difference in the share of customers who have experienced failed mobile money transactions in rural and urban villages? If so, is it statistically significant? Explain your findings including any assumptions and limitations.\n",
    "\n",
    "- What variables are good predictors that someone will cancel their mobile money account? Discuss what causes a customer to stop using their mobile money account including how strong the evidence is."
   ]
  },
  {
   "cell_type": "markdown",
   "metadata": {},
   "source": [
    "## Issue 1\n",
    "During the survey, participants listed all the different types of financial account that they have registered.<br> The resulting data has a format where there is one observation per account type.<br> Format the data so that there is now one observation per participant."
   ]
  },
  {
   "cell_type": "code",
   "execution_count": null,
   "metadata": {},
   "outputs": [],
   "source": [
    "data = data.drop_duplicates(subset = 'hhid', keep = \"last\")\n",
    "data.set_index('hhid', inplace=True)"
   ]
  },
  {
   "cell_type": "code",
   "execution_count": null,
   "metadata": {
    "tags": []
   },
   "outputs": [],
   "source": [
    "data.sort_index()\n",
    "data.head(20)"
   ]
  },
  {
   "cell_type": "markdown",
   "metadata": {
    "tags": []
   },
   "source": [
    "## Issue 2\n",
    "Create two dummy variables for whether each participant is: <br>\n",
    "i) financially excluded <br> ii) digitally financially included. <br>\n",
    "What are the overall rates of financial exclusion and digital financial inclusion for the combined population of these three districts?"
   ]
  },
  {
   "cell_type": "code",
   "execution_count": null,
   "metadata": {
    "tags": []
   },
   "outputs": [],
   "source": [
    "# create a financial excluded dummy column\n",
    "def excluded(row):\n",
    "    if row['account_type'] == 'None':\n",
    "        return 'yes'\n",
    "    else:\n",
    "        return 'no'\n",
    "\n",
    "data[\"financial_ex\"] = data.apply(excluded, axis=1)"
   ]
  },
  {
   "cell_type": "code",
   "execution_count": null,
   "metadata": {},
   "outputs": [],
   "source": [
    "# create a financial included dummy column\n",
    "def included(row):\n",
    "    if row['account_type'] != 'None':\n",
    "        return 'yes'\n",
    "    else:\n",
    "        return 'no'\n",
    "\n",
    "data[\"financial_inc\"] = data.apply(included, axis=1)"
   ]
  },
  {
   "cell_type": "code",
   "execution_count": null,
   "metadata": {
    "tags": []
   },
   "outputs": [],
   "source": [
    "# test\n",
    "data.columns"
   ]
  },
  {
   "cell_type": "code",
   "execution_count": null,
   "metadata": {
    "jupyter": {
     "source_hidden": true
    },
    "tags": []
   },
   "outputs": [],
   "source": [
    "included = data['financial_inc'][data['financial_inc'] == 'yes'].count()\n",
    "excluded = data['financial_ex'][data['financial_ex'] == 'yes'].count()\n",
    "\n",
    "print(f'The number of fInancially included participants are {included} while the number of financially  excluded participants are {excluded}')"
   ]
  },
  {
   "cell_type": "code",
   "execution_count": null,
   "metadata": {
    "jupyter": {
     "source_hidden": true
    },
    "tags": []
   },
   "outputs": [],
   "source": [
    "f_rates = data['financial_inc'].value_counts()\n",
    "\n",
    "fig, ax = plt.subplots(figsize=(8, 8))\n",
    "x = f_rates\n",
    "labels = f_rates.keys()\n",
    "mycolors = [\"grey\", \"#4CAF50\"]\n",
    "myexplode = [0, 0.2]\n",
    "patches, texts, pcts = ax.pie(x, labels = labels, autopct='%.f%%', explode = myexplode, colors = mycolors, textprops={'fontsize': 13})\n",
    "for i, patch in enumerate(patches):\n",
    "    texts[i].set_color(patch.get_facecolor())\n",
    "plt.setp(pcts, color='white', fontweight='bold')\n",
    "plt.setp(texts, fontweight=600)\n",
    "plt.title(\"Overall Rates of Financial Exclusion and Digital Financial Inclusion\", fontsize = 18)\n",
    "plt.show()"
   ]
  },
  {
   "cell_type": "markdown",
   "metadata": {
    "tags": []
   },
   "source": [
    "The above analysis and graph shows that 89% of the combined population for the three district are financially included. <br>\n",
    "<sup>(i.e they have at least one registered account with a mobile money operator or an online bank account)</sup> <br> \n",
    "On the other hand, 11% of the combined population are financially excluded <br>\n",
    "<sup>(i.e they haven't registered for any financialy account)</sup>"
   ]
  },
  {
   "cell_type": "markdown",
   "metadata": {},
   "source": [
    "## Issue 3\n",
    "Describe in a few short paragraphs how the mobile money market is divided between the three companies. Include at least one chart or table to illustrate your findings"
   ]
  },
  {
   "cell_type": "code",
   "execution_count": null,
   "metadata": {
    "jupyter": {
     "source_hidden": true
    },
    "tags": []
   },
   "outputs": [],
   "source": [
    "distribution = data['mm_account_telco_main'].value_counts()\n",
    "\n",
    "fig, ax = plt.subplots(figsize=(8, 8))\n",
    "x = distribution\n",
    "labels = distribution.keys()\n",
    "myexplode = [0, 0, 0.25]\n",
    "patches, texts, pcts = ax.pie(x, labels = labels, autopct='%.1f%%', explode = myexplode, textprops={'fontsize': 13})\n",
    "for i, patch in enumerate(patches):\n",
    "    texts[i].set_color(patch.get_facecolor())\n",
    "plt.setp(pcts, color='white', fontweight='bold')\n",
    "plt.setp(texts, fontweight=600)\n",
    "plt.title(\"Mobile Money Market Distribution (Main)\", fontsize = 18)\n",
    "plt.show()"
   ]
  },
  {
   "cell_type": "markdown",
   "metadata": {},
   "source": [
    "Checking the main mobile money account of the participants, Company_A has the highest market share with 59.5% of the total market share while Company_B has the second largest market share with 38.8% and lastly, Company_C has the least market share by a long margin having less than 2% of the total market share. <br>\n",
    "Since there's data available for participants that make use of more than one mobile money account, it'll be interesting to see how the distribution changes."
   ]
  },
  {
   "cell_type": "code",
   "execution_count": null,
   "metadata": {
    "jupyter": {
     "source_hidden": true
    },
    "tags": []
   },
   "outputs": [],
   "source": [
    "j_distribution = data['mm_account_telco'].value_counts()\n",
    "\n",
    "fig, ax = plt.subplots(figsize=(8, 8))\n",
    "x = j_distribution\n",
    "labels = j_distribution.keys()\n",
    "myexplode = [0, 0, 0, 0.15, 0.2, 0.25, 0.3]\n",
    "patches, texts, pcts = ax.pie(x, labels = labels, autopct='%.1f%%', explode = myexplode, textprops={'fontsize': 13})\n",
    "for i, patch in enumerate(patches):\n",
    "    texts[i].set_color(patch.get_facecolor())\n",
    "plt.setp(pcts, color='white', fontweight='bold')\n",
    "plt.setp(texts, fontweight=600)\n",
    "plt.title(\"Mobile Money Market Distribution (Joint)\", fontsize = 18)\n",
    "plt.show()"
   ]
  },
  {
   "cell_type": "markdown",
   "metadata": {},
   "source": [
    "Looking at the joint distribution, it is noted that the individual accounts stil take the same position in terms of distribution but with the addition of multiple accounts there are some slight changes. <br>\n",
    "\n",
    "Most of the participants make use of both Company_A and Company_B together and this is interesting because no other combination takes up a significant portion of the market share.<br> \n",
    "\n",
    "It is also worth noting that the participants that make use of the three Companies have more market share compared to the combination of Company_B and Company_C and the combination of Company_A and Company_C."
   ]
  },
  {
   "cell_type": "markdown",
   "metadata": {},
   "source": [
    "## Issue 4\n",
    "Is there a difference in the share of customers who have experienced failed mobile money transactions in rural and urban villages? If so, is it statistically significant? Explain your findings including any assumptions and limitations.\n"
   ]
  },
  {
   "cell_type": "code",
   "execution_count": null,
   "metadata": {
    "jupyter": {
     "source_hidden": true
    },
    "tags": []
   },
   "outputs": [],
   "source": [
    "data['urban'].value_counts()"
   ]
  },
  {
   "cell_type": "markdown",
   "metadata": {},
   "source": [
    "It is worth noting that most of the participants live in the __rural__ area and this might affect further analysis. <br>\n",
    "Next, I would be looking at how the \"v240\" column which represents failed transactions affect the above values."
   ]
  },
  {
   "cell_type": "code",
   "execution_count": null,
   "metadata": {
    "jupyter": {
     "source_hidden": true
    },
    "tags": []
   },
   "outputs": [],
   "source": [
    "fig, ax = plt.subplots(figsize =(10, 8))\n",
    "mycolor = ['g', 'r']\n",
    "sb.countplot(data = data, x = 'urban', hue = 'v240', palette = mycolor)\n",
    "for container in ax.containers:\n",
    "    ax.bar_label(container)\n",
    "ax.set_title('Failed Transaction Breakdown', fontsize = 15, fontweight='bold')\n",
    "x_axis = ax.axes.get_xaxis()\n",
    "x_label = x_axis.get_label()\n",
    "x_label.set_visible(False)\n",
    "y_axis = ax.axes.get_yaxis()\n",
    "y_axis.set_visible(False)\n",
    "plt.show()"
   ]
  },
  {
   "cell_type": "markdown",
   "metadata": {},
   "source": [
    "After grouping the location distribution with the failed transactions, it is noticed that the Rural area has a higher number of failed transactions compared to the Urban area but this might be caused by the majority of the participants staying in the Rural area as stated earlier. <br>\n",
    "The margin between the failed and unfailed transactions in the Rural area is much higher compared to the urban area but this might once again be due to the distribution of participants in each location.\n",
    "\n",
    "As for the difference in the failed transactions between both locations, the Rural area has more failed transactions but there is not much difference between the both locations.\n",
    "\n",
    "We can drill down even further by getting the figures for each locations (i.e Rural and Urban) seperately."
   ]
  },
  {
   "cell_type": "code",
   "execution_count": null,
   "metadata": {
    "jupyter": {
     "source_hidden": true
    },
    "tags": []
   },
   "outputs": [],
   "source": [
    "\n",
    "rural_p = data[data[\"urban\"]=='Rural'].v240.value_counts()\n",
    "\n",
    "fig, ax = plt.subplots(figsize = (10, 8))\n",
    "x = rural_p\n",
    "labels = rural_p.keys()\n",
    "myexplode = [0, 0]\n",
    "mycolor = ['g', 'r']\n",
    "patches, texts, pcts = ax.pie(x, labels = labels, autopct='%.1f%%', explode = myexplode, textprops={'fontsize': 13}, colors = mycolor)\n",
    "for i, patch in enumerate(patches):\n",
    "    texts[i].set_color(patch.get_facecolor())\n",
    "plt.setp(pcts, color='white', fontweight='bold')\n",
    "plt.setp(texts, fontweight=600)\n",
    "plt.title(\"Rural Transactions Breakdown\", fontsize = 18)\n",
    "plt.show()"
   ]
  },
  {
   "cell_type": "code",
   "execution_count": null,
   "metadata": {
    "jupyter": {
     "source_hidden": true
    },
    "tags": []
   },
   "outputs": [],
   "source": [
    "urban_p = data[data[\"urban\"]=='Urban'].v240.value_counts()\n",
    "\n",
    "fig, ax = plt.subplots(figsize = (10, 8))\n",
    "x = urban_p\n",
    "labels = urban_p.keys()\n",
    "myexplode = [0, 0]\n",
    "mycolor = ['g', 'r']\n",
    "patches, texts, pcts = ax.pie(x, labels = labels, autopct='%.1f%%', explode = myexplode, textprops={'fontsize': 13}, colors = mycolor)\n",
    "for i, patch in enumerate(patches):\n",
    "    texts[i].set_color(patch.get_facecolor())\n",
    "plt.setp(pcts, color='white', fontweight='bold')\n",
    "plt.setp(texts, fontweight=600)\n",
    "plt.title(\"Urban Transactions Breakdown\", fontsize = 18)\n",
    "plt.show()"
   ]
  },
  {
   "cell_type": "markdown",
   "metadata": {},
   "source": [
    "With further drill down, it is noted that the participants in the Urban location had a higher percentage of failed transactions with 35.6% as compared to the Rural location which had 20.8%.<br>\n",
    "\n"
   ]
  },
  {
   "cell_type": "markdown",
   "metadata": {},
   "source": [
    "## Issue 5\n",
    "What variables are good predictors that someone will cancel their mobile money account? Discuss what causes a customer to stop using their mobile money account including how strong the evidence is."
   ]
  },
  {
   "cell_type": "code",
   "execution_count": null,
   "metadata": {},
   "outputs": [],
   "source": []
  }
 ],
 "metadata": {
  "kernelspec": {
   "display_name": "py38_env",
   "language": "python",
   "name": "python3"
  },
  "language_info": {
   "codemirror_mode": {
    "name": "ipython",
    "version": 3
   },
   "file_extension": ".py",
   "mimetype": "text/x-python",
   "name": "python",
   "nbconvert_exporter": "python",
   "pygments_lexer": "ipython3",
   "version": "3.8.13"
  },
  "vscode": {
   "interpreter": {
    "hash": "7ea3c2d172d53f07f31cc50d61358de6ce36f4e3a72f9195dd3741ac7abea37d"
   }
  }
 },
 "nbformat": 4,
 "nbformat_minor": 4
}
