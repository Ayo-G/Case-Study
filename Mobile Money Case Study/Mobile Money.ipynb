{
 "cells": [
  {
   "cell_type": "markdown",
   "metadata": {},
   "source": [
    "# Mobile Money"
   ]
  },
  {
   "cell_type": "code",
   "execution_count": 1,
   "metadata": {
    "tags": []
   },
   "outputs": [],
   "source": [
    "# import the necessary libraries\n",
    "import pandas as pd\n",
    "import seaborn as sb\n",
    "import matplotlib.pyplot as plt\n",
    "%matplotlib inline"
   ]
  },
  {
   "cell_type": "code",
   "execution_count": 2,
   "metadata": {},
   "outputs": [],
   "source": [
    "# import the dataset into the notebook\n",
    "data = pd.read_csv('mm_data.csv')"
   ]
  },
  {
   "cell_type": "code",
   "execution_count": 3,
   "metadata": {
    "tags": []
   },
   "outputs": [
    {
     "data": {
      "text/html": [
       "<div>\n",
       "<style scoped>\n",
       "    .dataframe tbody tr th:only-of-type {\n",
       "        vertical-align: middle;\n",
       "    }\n",
       "\n",
       "    .dataframe tbody tr th {\n",
       "        vertical-align: top;\n",
       "    }\n",
       "\n",
       "    .dataframe thead th {\n",
       "        text-align: right;\n",
       "    }\n",
       "</style>\n",
       "<table border=\"1\" class=\"dataframe\">\n",
       "  <thead>\n",
       "    <tr style=\"text-align: right;\">\n",
       "      <th></th>\n",
       "      <th>start_time</th>\n",
       "      <th>end_time</th>\n",
       "      <th>hhid</th>\n",
       "      <th>account_num</th>\n",
       "      <th>account_type</th>\n",
       "      <th>weight</th>\n",
       "      <th>district</th>\n",
       "      <th>urban</th>\n",
       "      <th>gender</th>\n",
       "      <th>age</th>\n",
       "      <th>...</th>\n",
       "      <th>v236</th>\n",
       "      <th>v237</th>\n",
       "      <th>v238</th>\n",
       "      <th>v240</th>\n",
       "      <th>v241</th>\n",
       "      <th>v242</th>\n",
       "      <th>v243</th>\n",
       "      <th>v244</th>\n",
       "      <th>v245</th>\n",
       "      <th>v246</th>\n",
       "    </tr>\n",
       "  </thead>\n",
       "  <tbody>\n",
       "    <tr>\n",
       "      <th>513</th>\n",
       "      <td>Oct 30, 2019 1:42:24 PM</td>\n",
       "      <td>Oct 30, 2019 2:39:11 PM</td>\n",
       "      <td>1253</td>\n",
       "      <td>2</td>\n",
       "      <td>Bank Account</td>\n",
       "      <td>278.91081</td>\n",
       "      <td>District_C</td>\n",
       "      <td>Rural</td>\n",
       "      <td>female</td>\n",
       "      <td>56</td>\n",
       "      <td>...</td>\n",
       "      <td>NaN</td>\n",
       "      <td>yes</td>\n",
       "      <td>yes</td>\n",
       "      <td>yes</td>\n",
       "      <td>yes</td>\n",
       "      <td>no</td>\n",
       "      <td>no</td>\n",
       "      <td>NaN</td>\n",
       "      <td>no</td>\n",
       "      <td>no</td>\n",
       "    </tr>\n",
       "    <tr>\n",
       "      <th>2013</th>\n",
       "      <td>Nov 6, 2019 9:44:07 AM</td>\n",
       "      <td>Nov 6, 2019 11:05:48 AM</td>\n",
       "      <td>1996</td>\n",
       "      <td>2</td>\n",
       "      <td>Bank Account</td>\n",
       "      <td>391.59873</td>\n",
       "      <td>District_B</td>\n",
       "      <td>Rural</td>\n",
       "      <td>female</td>\n",
       "      <td>33</td>\n",
       "      <td>...</td>\n",
       "      <td>NaN</td>\n",
       "      <td>no</td>\n",
       "      <td>yes</td>\n",
       "      <td>no</td>\n",
       "      <td>yes</td>\n",
       "      <td>no</td>\n",
       "      <td>yes</td>\n",
       "      <td>NaN</td>\n",
       "      <td>no</td>\n",
       "      <td>no</td>\n",
       "    </tr>\n",
       "    <tr>\n",
       "      <th>2130</th>\n",
       "      <td>Nov 6, 2019 4:48:07 PM</td>\n",
       "      <td>Nov 6, 2019 5:54:02 PM</td>\n",
       "      <td>2054</td>\n",
       "      <td>1</td>\n",
       "      <td>Mobile Money</td>\n",
       "      <td>250.88857</td>\n",
       "      <td>District_B</td>\n",
       "      <td>Rural</td>\n",
       "      <td>male</td>\n",
       "      <td>27</td>\n",
       "      <td>...</td>\n",
       "      <td>NaN</td>\n",
       "      <td>no</td>\n",
       "      <td>yes</td>\n",
       "      <td>no</td>\n",
       "      <td>no</td>\n",
       "      <td>no</td>\n",
       "      <td>yes</td>\n",
       "      <td>NaN</td>\n",
       "      <td>yes</td>\n",
       "      <td>no</td>\n",
       "    </tr>\n",
       "    <tr>\n",
       "      <th>2009</th>\n",
       "      <td>Nov 6, 2019 2:01:29 PM</td>\n",
       "      <td>Nov 6, 2019 3:11:23 PM</td>\n",
       "      <td>1993</td>\n",
       "      <td>2</td>\n",
       "      <td>SACCO Account</td>\n",
       "      <td>170.66296</td>\n",
       "      <td>District_A</td>\n",
       "      <td>Urban</td>\n",
       "      <td>male</td>\n",
       "      <td>33</td>\n",
       "      <td>...</td>\n",
       "      <td>yes</td>\n",
       "      <td>yes</td>\n",
       "      <td>yes</td>\n",
       "      <td>yes</td>\n",
       "      <td>yes</td>\n",
       "      <td>no</td>\n",
       "      <td>yes</td>\n",
       "      <td>yes</td>\n",
       "      <td>yes</td>\n",
       "      <td>yes</td>\n",
       "    </tr>\n",
       "    <tr>\n",
       "      <th>224</th>\n",
       "      <td>Oct 28, 2019 2:07:15 PM</td>\n",
       "      <td>Oct 28, 2019 3:17:21 PM</td>\n",
       "      <td>1116</td>\n",
       "      <td>1</td>\n",
       "      <td>Mobile Money</td>\n",
       "      <td>151.52198</td>\n",
       "      <td>District_C</td>\n",
       "      <td>Rural</td>\n",
       "      <td>female</td>\n",
       "      <td>40</td>\n",
       "      <td>...</td>\n",
       "      <td>NaN</td>\n",
       "      <td>yes</td>\n",
       "      <td>yes</td>\n",
       "      <td>no</td>\n",
       "      <td>yes</td>\n",
       "      <td>no</td>\n",
       "      <td>yes</td>\n",
       "      <td>yes</td>\n",
       "      <td>yes</td>\n",
       "      <td>no</td>\n",
       "    </tr>\n",
       "  </tbody>\n",
       "</table>\n",
       "<p>5 rows × 29 columns</p>\n",
       "</div>"
      ],
      "text/plain": [
       "                   start_time                 end_time  hhid  account_num  \\\n",
       "513   Oct 30, 2019 1:42:24 PM  Oct 30, 2019 2:39:11 PM  1253            2   \n",
       "2013   Nov 6, 2019 9:44:07 AM  Nov 6, 2019 11:05:48 AM  1996            2   \n",
       "2130   Nov 6, 2019 4:48:07 PM   Nov 6, 2019 5:54:02 PM  2054            1   \n",
       "2009   Nov 6, 2019 2:01:29 PM   Nov 6, 2019 3:11:23 PM  1993            2   \n",
       "224   Oct 28, 2019 2:07:15 PM  Oct 28, 2019 3:17:21 PM  1116            1   \n",
       "\n",
       "       account_type     weight    district  urban  gender  age  ...  v236  \\\n",
       "513    Bank Account  278.91081  District_C  Rural  female   56  ...   NaN   \n",
       "2013   Bank Account  391.59873  District_B  Rural  female   33  ...   NaN   \n",
       "2130   Mobile Money  250.88857  District_B  Rural    male   27  ...   NaN   \n",
       "2009  SACCO Account  170.66296  District_A  Urban    male   33  ...   yes   \n",
       "224    Mobile Money  151.52198  District_C  Rural  female   40  ...   NaN   \n",
       "\n",
       "     v237 v238 v240 v241 v242 v243 v244 v245 v246  \n",
       "513   yes  yes  yes  yes   no   no  NaN   no   no  \n",
       "2013   no  yes   no  yes   no  yes  NaN   no   no  \n",
       "2130   no  yes   no   no   no  yes  NaN  yes   no  \n",
       "2009  yes  yes  yes  yes   no  yes  yes  yes  yes  \n",
       "224   yes  yes   no  yes   no  yes  yes  yes   no  \n",
       "\n",
       "[5 rows x 29 columns]"
      ]
     },
     "execution_count": 3,
     "metadata": {},
     "output_type": "execute_result"
    }
   ],
   "source": [
    "# preview the loaded dataset\n",
    "data.sample(5)"
   ]
  },
  {
   "cell_type": "code",
   "execution_count": 4,
   "metadata": {
    "tags": []
   },
   "outputs": [
    {
     "name": "stdout",
     "output_type": "stream",
     "text": [
      "<class 'pandas.core.frame.DataFrame'>\n",
      "RangeIndex: 2442 entries, 0 to 2441\n",
      "Data columns (total 29 columns):\n",
      " #   Column                   Non-Null Count  Dtype  \n",
      "---  ------                   --------------  -----  \n",
      " 0   start_time               2442 non-null   object \n",
      " 1   end_time                 2442 non-null   object \n",
      " 2   hhid                     2442 non-null   int64  \n",
      " 3   account_num              2442 non-null   int64  \n",
      " 4   account_type             2442 non-null   object \n",
      " 5   weight                   2442 non-null   float64\n",
      " 6   district                 2442 non-null   object \n",
      " 7   urban                    2442 non-null   object \n",
      " 8   gender                   2442 non-null   object \n",
      " 9   age                      2442 non-null   int64  \n",
      " 10  hh_members               2442 non-null   int64  \n",
      " 11  highest_grade_completed  2235 non-null   object \n",
      " 12  mm_account_cancelled     2442 non-null   object \n",
      " 13  prefer_cash              2395 non-null   object \n",
      " 14  mm_trust                 2314 non-null   object \n",
      " 15  mm_account_telco         1964 non-null   object \n",
      " 16  mm_account_telco_main    1011 non-null   object \n",
      " 17  v234                     1848 non-null   object \n",
      " 18  agent_trust              1634 non-null   object \n",
      " 19  v236                     643 non-null    object \n",
      " 20  v237                     2146 non-null   object \n",
      " 21  v238                     2155 non-null   object \n",
      " 22  v240                     2155 non-null   object \n",
      " 23  v241                     2106 non-null   object \n",
      " 24  v242                     2101 non-null   object \n",
      " 25  v243                     2146 non-null   object \n",
      " 26  v244                     575 non-null    object \n",
      " 27  v245                     2146 non-null   object \n",
      " 28  v246                     2155 non-null   object \n",
      "dtypes: float64(1), int64(4), object(24)\n",
      "memory usage: 553.4+ KB\n"
     ]
    }
   ],
   "source": [
    "# explore the properties and structure of the dataset\n",
    "data.info()"
   ]
  },
  {
   "cell_type": "code",
   "execution_count": 5,
   "metadata": {
    "tags": []
   },
   "outputs": [
    {
     "data": {
      "text/plain": [
       "(2442, 29)"
      ]
     },
     "execution_count": 5,
     "metadata": {},
     "output_type": "execute_result"
    }
   ],
   "source": [
    "data.shape"
   ]
  },
  {
   "cell_type": "code",
   "execution_count": 6,
   "metadata": {
    "tags": []
   },
   "outputs": [
    {
     "data": {
      "text/html": [
       "<div>\n",
       "<style scoped>\n",
       "    .dataframe tbody tr th:only-of-type {\n",
       "        vertical-align: middle;\n",
       "    }\n",
       "\n",
       "    .dataframe tbody tr th {\n",
       "        vertical-align: top;\n",
       "    }\n",
       "\n",
       "    .dataframe thead th {\n",
       "        text-align: right;\n",
       "    }\n",
       "</style>\n",
       "<table border=\"1\" class=\"dataframe\">\n",
       "  <thead>\n",
       "    <tr style=\"text-align: right;\">\n",
       "      <th></th>\n",
       "      <th>hhid</th>\n",
       "      <th>account_num</th>\n",
       "      <th>weight</th>\n",
       "      <th>age</th>\n",
       "      <th>hh_members</th>\n",
       "    </tr>\n",
       "  </thead>\n",
       "  <tbody>\n",
       "    <tr>\n",
       "      <th>count</th>\n",
       "      <td>2442.000000</td>\n",
       "      <td>2442.000000</td>\n",
       "      <td>2442.000000</td>\n",
       "      <td>2442.000000</td>\n",
       "      <td>2442.000000</td>\n",
       "    </tr>\n",
       "    <tr>\n",
       "      <th>mean</th>\n",
       "      <td>1607.075758</td>\n",
       "      <td>1.735053</td>\n",
       "      <td>401.935316</td>\n",
       "      <td>38.515561</td>\n",
       "      <td>4.705979</td>\n",
       "    </tr>\n",
       "    <tr>\n",
       "      <th>std</th>\n",
       "      <td>348.479178</td>\n",
       "      <td>0.852877</td>\n",
       "      <td>405.409563</td>\n",
       "      <td>13.184723</td>\n",
       "      <td>1.989618</td>\n",
       "    </tr>\n",
       "    <tr>\n",
       "      <th>min</th>\n",
       "      <td>1001.000000</td>\n",
       "      <td>1.000000</td>\n",
       "      <td>14.582491</td>\n",
       "      <td>18.000000</td>\n",
       "      <td>1.000000</td>\n",
       "    </tr>\n",
       "    <tr>\n",
       "      <th>25%</th>\n",
       "      <td>1304.250000</td>\n",
       "      <td>1.000000</td>\n",
       "      <td>191.808045</td>\n",
       "      <td>28.000000</td>\n",
       "      <td>3.000000</td>\n",
       "    </tr>\n",
       "    <tr>\n",
       "      <th>50%</th>\n",
       "      <td>1615.000000</td>\n",
       "      <td>2.000000</td>\n",
       "      <td>290.637580</td>\n",
       "      <td>36.000000</td>\n",
       "      <td>5.000000</td>\n",
       "    </tr>\n",
       "    <tr>\n",
       "      <th>75%</th>\n",
       "      <td>1911.000000</td>\n",
       "      <td>2.000000</td>\n",
       "      <td>458.260470</td>\n",
       "      <td>46.000000</td>\n",
       "      <td>6.000000</td>\n",
       "    </tr>\n",
       "    <tr>\n",
       "      <th>max</th>\n",
       "      <td>2205.000000</td>\n",
       "      <td>5.000000</td>\n",
       "      <td>4812.165200</td>\n",
       "      <td>97.000000</td>\n",
       "      <td>18.000000</td>\n",
       "    </tr>\n",
       "  </tbody>\n",
       "</table>\n",
       "</div>"
      ],
      "text/plain": [
       "              hhid  account_num       weight          age   hh_members\n",
       "count  2442.000000  2442.000000  2442.000000  2442.000000  2442.000000\n",
       "mean   1607.075758     1.735053   401.935316    38.515561     4.705979\n",
       "std     348.479178     0.852877   405.409563    13.184723     1.989618\n",
       "min    1001.000000     1.000000    14.582491    18.000000     1.000000\n",
       "25%    1304.250000     1.000000   191.808045    28.000000     3.000000\n",
       "50%    1615.000000     2.000000   290.637580    36.000000     5.000000\n",
       "75%    1911.000000     2.000000   458.260470    46.000000     6.000000\n",
       "max    2205.000000     5.000000  4812.165200    97.000000    18.000000"
      ]
     },
     "execution_count": 6,
     "metadata": {},
     "output_type": "execute_result"
    }
   ],
   "source": [
    "data.describe()"
   ]
  },
  {
   "cell_type": "code",
   "execution_count": 7,
   "metadata": {
    "tags": []
   },
   "outputs": [
    {
     "data": {
      "text/plain": [
       "0"
      ]
     },
     "execution_count": 7,
     "metadata": {},
     "output_type": "execute_result"
    }
   ],
   "source": [
    "data.duplicated().sum()"
   ]
  },
  {
   "cell_type": "code",
   "execution_count": 8,
   "metadata": {
    "tags": []
   },
   "outputs": [
    {
     "data": {
      "text/plain": [
       "start_time                    0\n",
       "end_time                      0\n",
       "hhid                          0\n",
       "account_num                   0\n",
       "account_type                  0\n",
       "weight                        0\n",
       "district                      0\n",
       "urban                         0\n",
       "gender                        0\n",
       "age                           0\n",
       "hh_members                    0\n",
       "highest_grade_completed     207\n",
       "mm_account_cancelled          0\n",
       "prefer_cash                  47\n",
       "mm_trust                    128\n",
       "mm_account_telco            478\n",
       "mm_account_telco_main      1431\n",
       "v234                        594\n",
       "agent_trust                 808\n",
       "v236                       1799\n",
       "v237                        296\n",
       "v238                        287\n",
       "v240                        287\n",
       "v241                        336\n",
       "v242                        341\n",
       "v243                        296\n",
       "v244                       1867\n",
       "v245                        296\n",
       "v246                        287\n",
       "dtype: int64"
      ]
     },
     "execution_count": 8,
     "metadata": {},
     "output_type": "execute_result"
    }
   ],
   "source": [
    "data.isnull().sum()"
   ]
  },
  {
   "cell_type": "markdown",
   "metadata": {
    "tags": []
   },
   "source": [
    "## Dataset Overview\n",
    "There are 2442 rows and 29 columns of that in this dataset.<br> It can also be noted that there are no duplicated values but there are null values in most of the columns.\n",
    "\n",
    "#### Column Description\n",
    "hhid - Household ID\n",
    "\n",
    "weight - Sampling Weight\n",
    "\n",
    "account_num - Account Number\n",
    "\n",
    "account_type - Type of account\n",
    "\n",
    "district - District of household\n",
    "\n",
    "urban - Household location in urban or rural village\n",
    "\n",
    "gender - Gender\n",
    "\n",
    "age -Age\n",
    "\n",
    "hh_members - Number of household members\n",
    "\n",
    "highest_grade_completed - Highest grade completed\n",
    "\n",
    "mm_account_cancelled - Has cancelled a mobile money account in the past\n",
    "\n",
    "prefer_cash - Preference for cash over cashless payment methods\n",
    "\n",
    "mm_trust - Do you trust mobile money?\n",
    "\n",
    "mm_account_telco - Please select the providers for which you have a mobile money account\n",
    "\n",
    "mm_account_telco_main - Which would you consider your main Mobile Money account?\n",
    "\n",
    "v234 - I understood the terms and conditions when I registered for a mobile money account.\n",
    "\n",
    "agent_trust - Do you trust mobile money agents?\n",
    "\n",
    "v236 - Have you ever taken a mobile money loan?\n",
    "\n",
    "v237 - Have you ever had issues with the network being unavailable for mobile money transactions?\n",
    "\n",
    "v238 - Before making a transaction are you clear about the fees?\n",
    "\n",
    "v240 - Has a transaction ever failed to go through?\n",
    "\n",
    "v241 - Has an agent you’ve dealt with ever not had enough cash or efloat available?\n",
    "\n",
    "v242 - Do you have a copy of the mobile money terms and conditions?\n",
    "\n",
    "v243 - Do you understand how and where to complain if you have an issue with mobile money?\n",
    "\n",
    "v244 - Have you had an issue successfully resolved after making a complaint?\n",
    "\n",
    "v245 - Do you understand what data mobile money providers collect about you?\n",
    "\n",
    "v246 - Have you been a victim of fraud?"
   ]
  },
  {
   "cell_type": "markdown",
   "metadata": {
    "tags": []
   },
   "source": [
    "### Key Issues\n",
    "- During the survey, participants listed all the different types of financial account that they have registered. The resulting data has a format where there is one observation per account type. Format the data so that there is now one observation per participant.\n",
    "\n",
    "- Create two dummy variables for whether each participant is: i) financially excluded and ii) digitally financially included. What are the overall rates of financial exclusion and digital financial inclusion for the combined population of these three districts?\n",
    "\n",
    "  - Financial exclusion is defined as not having registered for any type of financial account including accounts with: Mobile money operators, banks, micro-finance institutions (MFI’s), savings and credit cooperative organisations (SACCO’s) and village savings and loan associations (VSLA’s).\n",
    "\n",
    "  - Digital financial inclusion is defined as having at least one registered account with a mobile money operator or an online bank account.\n",
    "\n",
    "- Describe in a few short paragraphs how the mobile money market is divided between the three companies. Include at least one chart or table to illustrate your findings. \n",
    "\n",
    "- Is there a difference in the share of customers who have experienced failed mobile money transactions in rural and urban villages? If so, is it statistically significant? Explain your findings including any assumptions and limitations.\n",
    "\n",
    "- What variables are good predictors that someone will cancel their mobile money account? Discuss what causes a customer to stop using their mobile money account including how strong the evidence is."
   ]
  },
  {
   "cell_type": "markdown",
   "metadata": {},
   "source": [
    "## Issue 1\n",
    "During the survey, participants listed all the different types of financial account that they have registered.<br> The resulting data has a format where there is one observation per account type.<br> Format the data so that there is now one observation per participant."
   ]
  },
  {
   "cell_type": "code",
   "execution_count": null,
   "metadata": {},
   "outputs": [],
   "source": []
  },
  {
   "cell_type": "markdown",
   "metadata": {
    "tags": []
   },
   "source": [
    "## Issue 2\n",
    "Create two dummy variables for whether each participant is: <br>\n",
    "i) financially excluded <br> ii) digitally financially included. <br>\n",
    "What are the overall rates of financial exclusion and digital financial inclusion for the combined population of these three districts?"
   ]
  },
  {
   "cell_type": "code",
   "execution_count": 9,
   "metadata": {
    "tags": []
   },
   "outputs": [],
   "source": [
    "# create a financial excluded dummy column\n",
    "def excluded(row):\n",
    "    if row['account_type'] == 'None':\n",
    "        return 'yes'\n",
    "    else:\n",
    "        return 'no'\n",
    "\n",
    "data[\"financial_ex\"] = data.apply(excluded, axis=1)"
   ]
  },
  {
   "cell_type": "code",
   "execution_count": 10,
   "metadata": {},
   "outputs": [],
   "source": [
    "# create a financial included dummy column\n",
    "def included(row):\n",
    "    if row['account_type'] != 'None':\n",
    "        return 'yes'\n",
    "    else:\n",
    "        return 'no'\n",
    "\n",
    "data[\"financial_inc\"] = data.apply(included, axis=1)"
   ]
  },
  {
   "cell_type": "code",
   "execution_count": 11,
   "metadata": {
    "tags": []
   },
   "outputs": [
    {
     "data": {
      "text/plain": [
       "Index(['start_time', 'end_time', 'hhid', 'account_num', 'account_type',\n",
       "       'weight', 'district', 'urban', 'gender', 'age', 'hh_members',\n",
       "       'highest_grade_completed', 'mm_account_cancelled', 'prefer_cash',\n",
       "       'mm_trust', 'mm_account_telco', 'mm_account_telco_main', 'v234',\n",
       "       'agent_trust', 'v236', 'v237', 'v238', 'v240', 'v241', 'v242', 'v243',\n",
       "       'v244', 'v245', 'v246', 'financial_ex', 'financial_inc'],\n",
       "      dtype='object')"
      ]
     },
     "execution_count": 11,
     "metadata": {},
     "output_type": "execute_result"
    }
   ],
   "source": [
    "# test\n",
    "data.columns"
   ]
  },
  {
   "cell_type": "code",
   "execution_count": 12,
   "metadata": {
    "jupyter": {
     "source_hidden": true
    },
    "tags": []
   },
   "outputs": [
    {
     "name": "stdout",
     "output_type": "stream",
     "text": [
      "The number of fInancially included participants are 2310 while the number of financially  excluded participants are 132\n"
     ]
    }
   ],
   "source": [
    "included = data['financial_inc'][data['financial_inc'] == 'yes'].count()\n",
    "excluded = data['financial_ex'][data['financial_ex'] == 'yes'].count()\n",
    "\n",
    "print(f'The number of fInancially included participants are {included} while the number of financially  excluded participants are {excluded}')"
   ]
  },
  {
   "cell_type": "code",
   "execution_count": 13,
   "metadata": {
    "jupyter": {
     "source_hidden": true
    },
    "tags": []
   },
   "outputs": [
    {
     "data": {
      "image/png": "[encoded data removed]",
      "text/plain": [
       "<Figure size 576x576 with 1 Axes>"
      ]
     },
     "metadata": {},
     "output_type": "display_data"
    }
   ],
   "source": [
    "f_rates = data['financial_inc'].value_counts()\n",
    "\n",
    "fig, ax = plt.subplots(figsize=(8, 8))\n",
    "x = f_rates\n",
    "labels = f_rates.keys()\n",
    "mycolors = [\"grey\", \"#4CAF50\"]\n",
    "myexplode = [0, 0.2]\n",
    "patches, texts, pcts = ax.pie(x, labels = labels, autopct='%.1f%%', explode = myexplode, colors = mycolors, textprops={'fontsize': 13})\n",
    "for i, patch in enumerate(patches):\n",
    "    texts[i].set_color(patch.get_facecolor())\n",
    "plt.setp(pcts, color='white', fontweight='bold')\n",
    "plt.setp(texts, fontweight=600)\n",
    "plt.title(\"Overall Rates of Financial Exclusion and Digital Financial Inclusion\", fontsize = 18)\n",
    "plt.show()"
   ]
  },
  {
   "cell_type": "markdown",
   "metadata": {
    "tags": []
   },
   "source": [
    "The above analysis and graph shows that over 94% of the combined population for the three district are financially included. <br>\n",
    "<sup>(i.e they have at least one registered account with a mobile money operator or an online bank account)</sup> <br> \n",
    "On the other hand, less than 6% of the combined population are financially excluded <br>\n",
    "<sup>(i.e they haven't registered for any financialy account)</sup>"
   ]
  },
  {
   "cell_type": "markdown",
   "metadata": {},
   "source": [
    "## Issue 3\n",
    "Describe in a few short paragraphs how the mobile money market is divided between the three companies. Include at least one chart or table to illustrate your findings"
   ]
  },
  {
   "cell_type": "code",
   "execution_count": 14,
   "metadata": {
    "jupyter": {
     "source_hidden": true
    },
    "tags": []
   },
   "outputs": [
    {
     "data": {
      "image/png": "[encoded data removed]",
      "text/plain": [
       "<Figure size 576x576 with 1 Axes>"
      ]
     },
     "metadata": {},
     "output_type": "display_data"
    }
   ],
   "source": [
    "distribution = data['mm_account_telco_main'].value_counts()\n",
    "\n",
    "fig, ax = plt.subplots(figsize=(8, 8))\n",
    "x = distribution\n",
    "labels = distribution.keys()\n",
    "myexplode = [0, 0, 0.25]\n",
    "patches, texts, pcts = ax.pie(x, labels = labels, autopct='%.1f%%', explode = myexplode, textprops={'fontsize': 13})\n",
    "for i, patch in enumerate(patches):\n",
    "    texts[i].set_color(patch.get_facecolor())\n",
    "plt.setp(pcts, color='white', fontweight='bold')\n",
    "plt.setp(texts, fontweight=600)\n",
    "plt.title(\"Mobile Money Market Distribution (Main)\", fontsize = 18)\n",
    "plt.show()"
   ]
  },
  {
   "cell_type": "markdown",
   "metadata": {},
   "source": [
    "Checking the main mobile money account of the participants, Company_A has the highest market share with 59.3% of the total market share while Company_B has the second largest market share with 38.9% and lastly, Company_C has the least market share by a long margin having less than 2% of the total market share. <br>\n",
    "Since there's data available for participants that make use of more than one mobile money account, it'll be interesting to see how the distribution changes."
   ]
  },
  {
   "cell_type": "code",
   "execution_count": 15,
   "metadata": {
    "jupyter": {
     "source_hidden": true
    },
    "tags": []
   },
   "outputs": [
    {
     "data": {
      "image/png": "[encoded data removed]",
      "text/plain": [
       "<Figure size 576x576 with 1 Axes>"
      ]
     },
     "metadata": {},
     "output_type": "display_data"
    }
   ],
   "source": [
    "j_distribution = data['mm_account_telco'].value_counts()\n",
    "\n",
    "fig, ax = plt.subplots(figsize=(8, 8))\n",
    "x = j_distribution\n",
    "labels = j_distribution.keys()\n",
    "myexplode = [0, 0, 0, 0.15, 0.2, 0.25, 0.3]\n",
    "patches, texts, pcts = ax.pie(x, labels = labels, autopct='%.1f%%', explode = myexplode, textprops={'fontsize': 13})\n",
    "for i, patch in enumerate(patches):\n",
    "    texts[i].set_color(patch.get_facecolor())\n",
    "plt.setp(pcts, color='white', fontweight='bold')\n",
    "plt.setp(texts, fontweight=600)\n",
    "plt.title(\"Mobile Money Market Distribution (Joint)\", fontsize = 18)\n",
    "plt.show()"
   ]
  },
  {
   "cell_type": "markdown",
   "metadata": {},
   "source": [
    "Looking at the joint distribution, it is noted that the individual accounts stil take the same position in terms of distribution but with the addition of multiple accounts there are some slight changes. <br>\n",
    "\n",
    "Most of the participants make use of both Company_A and Company_B together and this is interesting because no other combination takes up a significant portion of the market share.<br> \n",
    "\n",
    "It is also worth noting that the participants that make use of the three Companies have more market share compared to the combination of Company_B and Company_C and the combination of Company_A and Company_C."
   ]
  },
  {
   "cell_type": "markdown",
   "metadata": {},
   "source": [
    "## Issue 4\n",
    "Is there a difference in the share of customers who have experienced failed mobile money transactions in rural and urban villages? If so, is it statistically significant? Explain your findings including any assumptions and limitations.\n"
   ]
  },
  {
   "cell_type": "code",
   "execution_count": 16,
   "metadata": {
    "jupyter": {
     "source_hidden": true
    },
    "tags": []
   },
   "outputs": [
    {
     "data": {
      "text/plain": [
       "Rural    1869\n",
       "Urban     573\n",
       "Name: urban, dtype: int64"
      ]
     },
     "execution_count": 16,
     "metadata": {},
     "output_type": "execute_result"
    }
   ],
   "source": [
    "data['urban'].value_counts()"
   ]
  },
  {
   "cell_type": "markdown",
   "metadata": {},
   "source": [
    "It is worth noting that most of the participants live in the __rural__ area and this might affect further analysis. <br>\n",
    "Next, I would be looking at how the \"v240\" column which represents failed transactions affect the above values."
   ]
  },
  {
   "cell_type": "code",
   "execution_count": 17,
   "metadata": {
    "jupyter": {
     "source_hidden": true
    },
    "tags": []
   },
   "outputs": [
    {
     "data": {
      "image/png": "[encoded data removed]",
      "text/plain": [
       "<Figure size 720x576 with 1 Axes>"
      ]
     },
     "metadata": {
      "needs_background": "light"
     },
     "output_type": "display_data"
    }
   ],
   "source": [
    "fig, ax = plt.subplots(figsize =(10, 8))\n",
    "mycolor = ['g', 'r']\n",
    "sb.countplot(data = data, x = 'urban', hue = 'v240', palette = mycolor)\n",
    "for container in ax.containers:\n",
    "    ax.bar_label(container)\n",
    "ax.set_title('Failed Transaction Breakdown', fontsize = 15, fontweight='bold')\n",
    "x_axis = ax.axes.get_xaxis()\n",
    "x_label = x_axis.get_label()\n",
    "x_label.set_visible(False)\n",
    "y_axis = ax.axes.get_yaxis()\n",
    "y_axis.set_visible(False)\n",
    "plt.show()"
   ]
  },
  {
   "cell_type": "markdown",
   "metadata": {},
   "source": [
    "After grouping the location distribution with the failed transactions, it is noticed that the Rural area has a higher number of failed transactions compared to the Urban area but this might be caused by the majority of the participants staying in the Rural area as stated earlier. <br>\n",
    "The margin between the failed and unfailed transactions in the Rural area is much higher compared to the urban area but this might once again be due to the distribution of participants in each location.\n",
    "\n",
    "As for the difference in the failed transactions between both locations, the Rural area has more failed transactions but there is not much difference between the both locations.\n",
    "\n",
    "We can drill down even further by getting the figures for each locations (i.e Rural and Urban) seperately."
   ]
  },
  {
   "cell_type": "code",
   "execution_count": 18,
   "metadata": {
    "jupyter": {
     "source_hidden": true
    },
    "tags": []
   },
   "outputs": [
    {
     "data": {
      "image/png": "[encoded data removed]",
      "text/plain": [
       "<Figure size 720x576 with 1 Axes>"
      ]
     },
     "metadata": {},
     "output_type": "display_data"
    }
   ],
   "source": [
    "\n",
    "rural_p = data[data[\"urban\"]=='Rural'].v240.value_counts()\n",
    "\n",
    "fig, ax = plt.subplots(figsize = (10, 8))\n",
    "x = rural_p\n",
    "labels = rural_p.keys()\n",
    "myexplode = [0, 0]\n",
    "mycolor = ['g', 'r']\n",
    "patches, texts, pcts = ax.pie(x, labels = labels, autopct='%.1f%%', explode = myexplode, textprops={'fontsize': 13}, colors = mycolor)\n",
    "for i, patch in enumerate(patches):\n",
    "    texts[i].set_color(patch.get_facecolor())\n",
    "plt.setp(pcts, color='white', fontweight='bold')\n",
    "plt.setp(texts, fontweight=600)\n",
    "plt.title(\"Rural Transactions Breakdown\", fontsize = 18)\n",
    "plt.show()"
   ]
  },
  {
   "cell_type": "code",
   "execution_count": 19,
   "metadata": {
    "jupyter": {
     "source_hidden": true
    },
    "tags": []
   },
   "outputs": [
    {
     "data": {
      "image/png": "[encoded data removed]",
      "text/plain": [
       "<Figure size 720x576 with 1 Axes>"
      ]
     },
     "metadata": {},
     "output_type": "display_data"
    }
   ],
   "source": [
    "urban_p = data[data[\"urban\"]=='Urban'].v240.value_counts()\n",
    "\n",
    "fig, ax = plt.subplots(figsize = (10, 8))\n",
    "x = urban_p\n",
    "labels = urban_p.keys()\n",
    "myexplode = [0, 0]\n",
    "mycolor = ['g', 'r']\n",
    "patches, texts, pcts = ax.pie(x, labels = labels, autopct='%.1f%%', explode = myexplode, textprops={'fontsize': 13}, colors = mycolor)\n",
    "for i, patch in enumerate(patches):\n",
    "    texts[i].set_color(patch.get_facecolor())\n",
    "plt.setp(pcts, color='white', fontweight='bold')\n",
    "plt.setp(texts, fontweight=600)\n",
    "plt.title(\"Urban Transactions Breakdown\", fontsize = 18)\n",
    "plt.show()"
   ]
  },
  {
   "cell_type": "markdown",
   "metadata": {},
   "source": [
    "With further drill down, it is noted that the participants in the Urban location had a higher percentage of failed transactions with 38.2% as compared to the Rural location which had 23.6%.<br>\n",
    "\n"
   ]
  },
  {
   "cell_type": "code",
   "execution_count": null,
   "metadata": {},
   "outputs": [],
   "source": []
  },
  {
   "cell_type": "markdown",
   "metadata": {},
   "source": [
    "## Issue 5\n",
    "What variables are good predictors that someone will cancel their mobile money account? Discuss what causes a customer to stop using their mobile money account including how strong the evidence is."
   ]
  },
  {
   "cell_type": "code",
   "execution_count": null,
   "metadata": {},
   "outputs": [],
   "source": []
  }
 ],
 "metadata": {
  "kernelspec": {
   "display_name": "Python [conda env:py38_env] *",
   "language": "python",
   "name": "conda-env-py38_env-py"
  },
  "language_info": {
   "codemirror_mode": {
    "name": "ipython",
    "version": 3
   },
   "file_extension": ".py",
   "mimetype": "text/x-python",
   "name": "python",
   "nbconvert_exporter": "python",
   "pygments_lexer": "ipython3",
   "version": "3.8.13"
  }
 },
 "nbformat": 4,
 "nbformat_minor": 4
}
